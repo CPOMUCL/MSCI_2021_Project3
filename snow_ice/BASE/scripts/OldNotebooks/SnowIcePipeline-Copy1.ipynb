{
 "cells": [
  {
   "cell_type": "markdown",
   "id": "27878063-56bf-4a1e-84d8-4a6919fae2c9",
   "metadata": {},
   "source": [
    "# Snow and Ice inversion\n",
    "This notebook has the objective of constructing a pipeline for the inverison and calculation of the means for the snow and ice problem."
   ]
  },
  {
   "cell_type": "code",
   "execution_count": 1,
   "id": "4b190c6d-26b7-4bdc-8467-5dee6f38e8e1",
   "metadata": {},
   "outputs": [],
   "source": [
    "import numpy as np\n",
    "import matplotlib.pyplot as plt\n",
    "import subprocess"
   ]
  },
  {
   "cell_type": "markdown",
   "id": "dd5613b6-97a8-47d8-a926-e474ac8fb680",
   "metadata": {},
   "source": [
    "## Global Parameters"
   ]
  },
  {
   "cell_type": "code",
   "execution_count": 2,
   "id": "6afdd9db-25f1-4ed0-a656-b7dc4eb09ca2",
   "metadata": {},
   "outputs": [],
   "source": [
    "MINLON=60.0\n",
    "MAXLON=88.0\n",
    "MINLAT=-180.0\n",
    "MAXLAT=178.5"
   ]
  },
  {
   "cell_type": "markdown",
   "id": "25a9b147-9914-4bdf-be4f-2bf180116324",
   "metadata": {},
   "source": [
    "## Inversion using Voronoi (single thread?)"
   ]
  },
  {
   "cell_type": "code",
   "execution_count": 3,
   "id": "0d97955d-9bd7-4bfe-9bf2-a92091c6e3be",
   "metadata": {},
   "outputs": [
    {
     "name": "stdout",
     "output_type": "stream",
     "text": [
      "DataCleaning.ipynb\n",
      "PipelineSyntheticData.ipynb\n",
      "SnowIcePipeline.ipynb\n",
      "generateislandtemplatepoints.py\n",
      "generatesdftemplatepoints.py\n",
      "results_50_50_50_vv\n",
      "test.npy\n"
     ]
    },
    {
     "data": {
      "text/plain": [
       "CompletedProcess(args='ls', returncode=0)"
      ]
     },
     "execution_count": 3,
     "metadata": {},
     "output_type": "execute_result"
    }
   ],
   "source": [
    "subprocess.run(\"ls\")"
   ]
  },
  {
   "cell_type": "code",
   "execution_count": 30,
   "id": "a22011b8-4fb9-4393-8f5b-f675c28aab3b",
   "metadata": {},
   "outputs": [],
   "source": [
    "number_of_processes = 1\n",
    "parametrization = 0 # 0 for Voronoi, 1 for Delaunay linear, 2 for Delaunay Clough-Tocher\n",
    "parameter_C = 10\n",
    "parameter_T = 10\n",
    "iterations_number = 100\n",
    "verbosity = 100000\n",
    "independent_chains = 1  # Number of independent chains to run at each temperature\n",
    "temperature_levels = 1 # Number of temperatures for parallel tempering \n",
    "max_temperature = 5.0      # Maximum temperature for the parallel tampering log temperature scale\n",
    "iterations_between_tempering = 10  # Number of iteration between parallel tempering exchange attempts"
   ]
  },
  {
   "cell_type": "code",
   "execution_count": 6,
   "id": "4df30bd5-117e-4902-b62d-4dcba603dd98",
   "metadata": {},
   "outputs": [
    {
     "data": {
      "text/plain": [
       "CompletedProcess(args=['mpirun', '-np', '1', '../tideshmcpt', '-i', '../snow_ice_observations.txt', '-o', '../results_50_50_50_vv/', '-P', '../tas_synthetic/prior_sea.txt', '-P', '../tas_synthetic/prior_land.txt', '-M', '../tas_synthetic/positionprior_sea.txt', '-M', '../tas_synthetic/positionprior_land.txt', '-x', '-180.0', '-X', '178.5', '-y', '60.0', '-Y', '88.0', '-A', '0', '-A', '0', '-C', '10', '-T', '10', '-c', '1', '-t', '100', '-v', '10', '-K', '1', '-m', '5.0', '-e', '10'], returncode=0)"
      ]
     },
     "execution_count": 6,
     "metadata": {},
     "output_type": "execute_result"
    }
   ],
   "source": [
    "subprocess.run([\"mpirun\", \"-np\", str(number_of_processes), \"../tideshmcpt\", \"-i\", \"../snow_ice_observations.txt\", \"-o\", \"../results_50_50_50_vv/\", \n",
    "                \"-P\", \"../tas_synthetic/prior_sea.txt\", \"-P\", \"../tas_synthetic/prior_land.txt\", \n",
    "                \"-M\", \"../tas_synthetic/positionprior_sea.txt\", \"-M\", \"../tas_synthetic/positionprior_land.txt\",\n",
    "                \"-x\", str(MINLAT), \"-X\", str(MAXLAT),\n",
    "                \"-y\", str(MINLON), \"-Y\", str(MAXLON),\n",
    "                \"-A\", str(parametrization), \"-A\", str(parametrization),\n",
    "                \"-C\", str(parameter_C), \"-T\", str(parameter_T),\n",
    "                \"-c\", str(independent_chains),\n",
    "                \"-t\", str(iterations_number), \"-v\", str(verbosity),\n",
    "                \"-K\", str(temperature_levels), \"-m\", str(max_temperature),\n",
    "                \"-e\", str(iterations_between_tempering)])"
   ]
  },
  {
   "cell_type": "code",
   "execution_count": 31,
   "id": "81008785",
   "metadata": {},
   "outputs": [
    {
     "name": "stdout",
     "output_type": "stream",
     "text": [
      " Initial likelihood: 8899342.747054 -12903.422363\n",
      "Optimized likelihood: 12799.121693 -12903.422363\n",
      "Optimization AR     :   0.008900\n"
     ]
    },
    {
     "name": "stderr",
     "output_type": "stream",
     "text": [
      "2022-01-07 23:17:09:info:./global.hpp:optimize_sa: 481:Model 0 Mean   0.367695\n",
      "2022-01-07 23:17:09:info:./global.hpp:optimize_sa: 481:Model 1 Mean   0.367695\n"
     ]
    },
    {
     "data": {
      "text/plain": [
       "'\\nmkdir -p results_franke\\n../hmc -i syntheticobs_franke.txt   -P priorproposal.txt   -M positionpriorproposal.txt   -H hierarchicalpriorproposal.txt   -o results_franke/   -v 1000   -t 100000   -A 0   -x 0.0 -X 1.0   -y 0.0 -Y 1.0\\n'"
      ]
     },
     "execution_count": 31,
     "metadata": {},
     "output_type": "execute_result"
    }
   ],
   "source": [
    "subprocess.run([\"../tideshmc\", \n",
    "                \"-i\", \"../snow_ice_observations.txt\", \n",
    "                \"-o\", \"../results_50_50_50_vv/\", \n",
    "                \"-P\", \"../tas_synthetic/prior_sea.txt\", \"-P\", \"../tas_synthetic/prior_land.txt\", \n",
    "                \"-M\", \"../tas_synthetic/positionprior_sea.txt\", \"-M\", \"../tas_synthetic/positionprior_land.txt\",\n",
    "                \"-x\", str(MINLAT), \"-X\", str(MAXLAT),\n",
    "                \"-y\", str(MINLON), \"-Y\", str(MAXLON),\n",
    "                \"-A\", str(parametrization), \"-A\", str(parametrization),\n",
    "                \"-t\", str(iterations_number), \n",
    "                \"-v\", str(verbosity)])\n",
    "\n",
    "\n",
    "\n",
    "\n",
    "'''\n",
    "mkdir -p results_franke\n",
    "../hmc -i syntheticobs_franke.txt \\\n",
    "  -P priorproposal.txt \\\n",
    "  -M positionpriorproposal.txt \\\n",
    "  -H hierarchicalpriorproposal.txt \\\n",
    "  -o results_franke/ \\\n",
    "  -v 1000 \\\n",
    "  -t 100000 \\\n",
    "  -A 0 \\\n",
    "  -x 0.0 -X 1.0 \\\n",
    "  -y 0.0 -Y 1.0\n",
    "'''"
   ]
  },
  {
   "cell_type": "markdown",
   "id": "1bd726ba-a3eb-4d9a-88d1-b70fcdd983d8",
   "metadata": {},
   "source": [
    "## Compute Means (single thread?)"
   ]
  },
  {
   "cell_type": "code",
   "execution_count": 9,
   "id": "aea452ea-ec96-4867-8fa5-dfef93ba1383",
   "metadata": {},
   "outputs": [],
   "source": [
    "number_of_processes = 1\n",
    "parametrization = 0 # 0 for Voronoi, 1 for Delaunay linear, 2 for Delaunay Clough-Tocher\n",
    "parameter_T = 100\n",
    "parameter_t = 10\n",
    "parameter_W = 50\n",
    "parameter_H = 50\n",
    "parameter_I = 0\n",
    "parameter_s = 500000\n",
    "parameter_t = 10"
   ]
  },
  {
   "cell_type": "code",
   "execution_count": 10,
   "id": "470a9abe-0bda-444c-9ed3-788e264dcff8",
   "metadata": {},
   "outputs": [
    {
     "data": {
      "text/plain": [
       "CompletedProcess(args=['mpirun', '-np', '1', '../post_mean_mpi', '-i', '../results_50_50_50_vv/ch.dat', '-o', '../results_50_50_50_vv/mean_freeboard.txt', '-x', '-180.0', '-X', '178.5', '-y', '60.0', '-Y', '88.0', '-A', '0', '-A', '0', '-W', '50', '-H', '50', '-I', '0', '-s', '500000', '-t', '10'], returncode=0)"
      ]
     },
     "execution_count": 10,
     "metadata": {},
     "output_type": "execute_result"
    }
   ],
   "source": [
    "subprocess.run([\"mpirun\", \"-np\", str(number_of_processes), \"../post_mean_mpi\", \"-i\", \n",
    "                \"../results_50_50_50_vv/ch.dat\", \"-o\", \"../results_50_50_50_vv/mean_freeboard.txt\",\n",
    "                \"-x\", str(MINLAT), \"-X\", str(MAXLAT),\n",
    "                \"-y\", str(MINLON), \"-Y\", str(MAXLON), \n",
    "                \"-A\", str(parametrization), \"-A\", str(parametrization),\n",
    "                \"-W\", str(parameter_W), \"-H\", str(parameter_H),\n",
    "                \"-I\", str(parameter_I), \"-s\", str(parameter_s), \n",
    "                \"-t\", str(parameter_t)])"
   ]
  },
  {
   "cell_type": "code",
   "execution_count": 23,
   "id": "bb9c3c38-0769-44e3-81a1-b88a469b6d11",
   "metadata": {},
   "outputs": [],
   "source": [
    "number_of_processes = 1\n",
    "parametrization = 0 # 0 for Voronoi, 1 for Delaunay linear, 2 for Delaunay Clough-Tocher\n",
    "parameter_T = 100\n",
    "parameter_t = 10\n",
    "parameter_W = 50\n",
    "parameter_H = 50\n",
    "parameter_I = 1\n",
    "parameter_s = 500000\n",
    "parameter_t = 10"
   ]
  },
  {
   "cell_type": "code",
   "execution_count": 24,
   "id": "e6143077-54cc-4cd9-a1a1-52a4aa2c4a99",
   "metadata": {},
   "outputs": [
    {
     "data": {
      "text/plain": [
       "CompletedProcess(args=['mpirun', '-np', '1', '../post_mean_mpi', '-i', '../results_50_50_50_vv/ch.dat', '-o', '../results_50_50_50_vv/mean_ak.txt', '-x', '-180.0', '-X', '178.5', '-y', '60.0', '-Y', '88.0', '-A', '0', '-A', '0', '-W', '50', '-H', '50', '-I', '1', '-s', '500000', '-t', '10'], returncode=0)"
      ]
     },
     "execution_count": 24,
     "metadata": {},
     "output_type": "execute_result"
    }
   ],
   "source": [
    "subprocess.run([\"mpirun\", \"-np\", str(number_of_processes), \"../post_mean_mpi\", \"-i\", \n",
    "                \"../results_50_50_50_vv/ch.dat\", \"-o\", \"../results_50_50_50_vv/mean_ak.txt\",\n",
    "                \"-x\", str(MINLAT), \"-X\", str(MAXLAT),\n",
    "                \"-y\", str(MINLON), \"-Y\", str(MAXLON), \n",
    "                \"-A\", str(parametrization), \"-A\", str(parametrization),\n",
    "                \"-W\", str(parameter_W), \"-H\", str(parameter_H),\n",
    "                \"-I\", str(parameter_I), \"-s\", str(parameter_s), \n",
    "                \"-t\", str(parameter_t)])"
   ]
  },
  {
   "cell_type": "code",
   "execution_count": 25,
   "id": "766286af-70a3-497a-bdd4-ce31fd3ca91c",
   "metadata": {},
   "outputs": [],
   "source": [
    "number_of_processes = 1\n",
    "parametrization = 0 # 0 for Voronoi, 1 for Delaunay linear, 2 for Delaunay Clough-Tocher\n",
    "parameter_T = 100\n",
    "parameter_t = 10\n",
    "parameter_W = 50\n",
    "parameter_H = 50\n",
    "parameter_s = 500000\n",
    "parameter_t = 10"
   ]
  },
  {
   "cell_type": "code",
   "execution_count": 26,
   "id": "c640b9cf-6c7b-4c4d-9160-57fbff86c338",
   "metadata": {},
   "outputs": [
    {
     "data": {
      "text/plain": [
       "CompletedProcess(args=['mpirun', '-np', '1', '../post_mean_tide_mpi', '-i', '../results_50_50_50_vv/ch.dat', '-o', '../results_50_50_50_vv/mean_snow.txt', '-x', '-180.0', '-X', '178.5', '-y', '60.0', '-Y', '88.0', '-A', '0', '-A', '0', '-W', '50', '-H', '50', '-s', '500000', '-t', '10'], returncode=0)"
      ]
     },
     "execution_count": 26,
     "metadata": {},
     "output_type": "execute_result"
    }
   ],
   "source": [
    "subprocess.run([\"mpirun\", \"-np\", str(number_of_processes), \"../post_mean_tide_mpi\", \"-i\", \n",
    "                \"../results_50_50_50_vv/ch.dat\", \"-o\", \"../results_50_50_50_vv/mean_snow.txt\",\n",
    "                \"-x\", str(MINLAT), \"-X\", str(MAXLAT),\n",
    "                \"-y\", str(MINLON), \"-Y\", str(MAXLON), \n",
    "                \"-A\", str(parametrization), \"-A\", str(parametrization),\n",
    "                \"-W\", str(parameter_W), \"-H\", str(parameter_H),\n",
    "                \"-s\", str(parameter_s), \"-t\", str(parameter_t)])"
   ]
  },
  {
   "cell_type": "markdown",
   "id": "fbd1788f-e55b-4ea4-912d-523f2582bf2e",
   "metadata": {},
   "source": [
    "## Visualize Means"
   ]
  },
  {
   "cell_type": "code",
   "execution_count": 27,
   "id": "3d32a484-2665-406c-bd0b-fea1b72e413f",
   "metadata": {},
   "outputs": [
    {
     "data": {
      "text/plain": [
       "<matplotlib.image.AxesImage at 0x128e903a0>"
      ]
     },
     "execution_count": 27,
     "metadata": {},
     "output_type": "execute_result"
    },
    {
     "data": {
      "image/png": "[encoded data removed]",
      "text/plain": [
       "<Figure size 432x288 with 1 Axes>"
      ]
     },
     "metadata": {
      "needs_background": "light"
     },
     "output_type": "display_data"
    }
   ],
   "source": [
    "res = np.loadtxt(\"../results_50_50_50_vv/mean_freeboard.txt\")\n",
    "plt.imshow(res)"
   ]
  },
  {
   "cell_type": "code",
   "execution_count": 28,
   "id": "56dd9c9c-9907-417d-a09d-8f4ebc2fa005",
   "metadata": {},
   "outputs": [
    {
     "data": {
      "text/plain": [
       "<matplotlib.image.AxesImage at 0x128eee190>"
      ]
     },
     "execution_count": 28,
     "metadata": {},
     "output_type": "execute_result"
    },
    {
     "data": {
      "image/png": "[encoded data removed]",
      "text/plain": [
       "<Figure size 432x288 with 1 Axes>"
      ]
     },
     "metadata": {
      "needs_background": "light"
     },
     "output_type": "display_data"
    }
   ],
   "source": [
    "res = np.loadtxt(\"../results_50_50_50_vv/mean_ak.txt\")\n",
    "plt.imshow(res)"
   ]
  },
  {
   "cell_type": "code",
   "execution_count": 29,
   "id": "de7b2da0-1347-46b3-adc4-851e35f6532c",
   "metadata": {
    "scrolled": true
   },
   "outputs": [
    {
     "data": {
      "text/plain": [
       "<matplotlib.image.AxesImage at 0x128f477c0>"
      ]
     },
     "execution_count": 29,
     "metadata": {},
     "output_type": "execute_result"
    },
    {
     "data": {
      "image/png": "[encoded data removed]",
      "text/plain": [
       "<Figure size 432x288 with 1 Axes>"
      ]
     },
     "metadata": {
      "needs_background": "light"
     },
     "output_type": "display_data"
    }
   ],
   "source": [
    "res = np.loadtxt(\"../results_50_50_50_vv/mean_snow.txt\")\n",
    "plt.imshow(res)"
   ]
  },
  {
   "cell_type": "markdown",
   "id": "6c686e6c",
   "metadata": {},
   "source": [
    "# Single Thread"
   ]
  },
  {
   "cell_type": "markdown",
   "id": "ed161212",
   "metadata": {},
   "source": [
    "## Inversion using Voronoi "
   ]
  },
  {
   "cell_type": "code",
   "execution_count": 3,
   "id": "19244625",
   "metadata": {},
   "outputs": [
    {
     "name": "stdout",
     "output_type": "stream",
     "text": [
      "DataCleaning.ipynb\n",
      "PipelineSyntheticData.ipynb\n",
      "SnowIcePipeline.ipynb\n",
      "generateislandtemplatepoints.py\n",
      "generatesdftemplatepoints.py\n",
      "results_50_50_50_vv\n",
      "test.npy\n"
     ]
    },
    {
     "data": {
      "text/plain": [
       "CompletedProcess(args='ls', returncode=0)"
      ]
     },
     "execution_count": 3,
     "metadata": {},
     "output_type": "execute_result"
    }
   ],
   "source": [
    "subprocess.run(\"ls\")"
   ]
  },
  {
   "cell_type": "code",
   "execution_count": 30,
   "id": "1063ee77",
   "metadata": {},
   "outputs": [],
   "source": [
    "number_of_processes = 1\n",
    "parametrization = 0 # 0 for Voronoi, 1 for Delaunay linear, 2 for Delaunay Clough-Tocher\n",
    "parameter_C = 10\n",
    "parameter_T = 10\n",
    "iterations_number = 100\n",
    "verbosity = 100000\n",
    "independent_chains = 1  # Number of independent chains to run at each temperature\n",
    "temperature_levels = 1 # Number of temperatures for parallel tempering \n",
    "max_temperature = 5.0      # Maximum temperature for the parallel tampering log temperature scale\n",
    "iterations_between_tempering = 10  # Number of iteration between parallel tempering exchange attempts"
   ]
  },
  {
   "cell_type": "code",
   "execution_count": 31,
   "id": "a8b93318",
   "metadata": {},
   "outputs": [
    {
     "name": "stdout",
     "output_type": "stream",
     "text": [
      " Initial likelihood: 8899342.747054 -12903.422363\n",
      "Optimized likelihood: 12799.121693 -12903.422363\n",
      "Optimization AR     :   0.008900\n"
     ]
    },
    {
     "name": "stderr",
     "output_type": "stream",
     "text": [
      "2022-01-07 23:17:09:info:./global.hpp:optimize_sa: 481:Model 0 Mean   0.367695\n",
      "2022-01-07 23:17:09:info:./global.hpp:optimize_sa: 481:Model 1 Mean   0.367695\n"
     ]
    },
    {
     "data": {
      "text/plain": [
       "'\\nmkdir -p results_franke\\n../hmc -i syntheticobs_franke.txt   -P priorproposal.txt   -M positionpriorproposal.txt   -H hierarchicalpriorproposal.txt   -o results_franke/   -v 1000   -t 100000   -A 0   -x 0.0 -X 1.0   -y 0.0 -Y 1.0\\n'"
      ]
     },
     "execution_count": 31,
     "metadata": {},
     "output_type": "execute_result"
    }
   ],
   "source": [
    "subprocess.run([\"../tideshmc\", \n",
    "                \"-i\", \"../snow_ice_observations.txt\", \n",
    "                \"-o\", \"../results_50_50_50_vv/\", \n",
    "                \"-P\", \"../tas_synthetic/prior_sea.txt\", \"-P\", \"../tas_synthetic/prior_land.txt\", \n",
    "                \"-M\", \"../tas_synthetic/positionprior_sea.txt\", \"-M\", \"../tas_synthetic/positionprior_land.txt\",\n",
    "                \"-x\", str(MINLAT), \"-X\", str(MAXLAT),\n",
    "                \"-y\", str(MINLON), \"-Y\", str(MAXLON),\n",
    "                \"-A\", str(parametrization), \"-A\", str(parametrization),\n",
    "                \"-t\", str(iterations_number), \n",
    "                \"-v\", str(verbosity)])"
   ]
  },
  {
   "cell_type": "markdown",
   "id": "9503f9b5",
   "metadata": {},
   "source": [
    "## Compute Means "
   ]
  },
  {
   "cell_type": "code",
   "execution_count": 9,
   "id": "aea452ea-ec96-4867-8fa5-dfef93ba1383",
   "metadata": {},
   "outputs": [],
   "source": [
    "number_of_processes = 1\n",
    "parametrization = 0 # 0 for Voronoi, 1 for Delaunay linear, 2 for Delaunay Clough-Tocher\n",
    "parameter_T = 100\n",
    "parameter_t = 10\n",
    "parameter_W = 50\n",
    "parameter_H = 50\n",
    "parameter_I = 0\n",
    "parameter_s = 500000\n",
    "parameter_t = 10"
   ]
  },
  {
   "cell_type": "code",
   "execution_count": 10,
   "id": "470a9abe-0bda-444c-9ed3-788e264dcff8",
   "metadata": {},
   "outputs": [
    {
     "data": {
      "text/plain": [
       "CompletedProcess(args=['mpirun', '-np', '1', '../post_mean_mpi', '-i', '../results_50_50_50_vv/ch.dat', '-o', '../results_50_50_50_vv/mean_freeboard.txt', '-x', '-180.0', '-X', '178.5', '-y', '60.0', '-Y', '88.0', '-A', '0', '-A', '0', '-W', '50', '-H', '50', '-I', '0', '-s', '500000', '-t', '10'], returncode=0)"
      ]
     },
     "execution_count": 10,
     "metadata": {},
     "output_type": "execute_result"
    }
   ],
   "source": [
    "subprocess.run([\"mpirun\", \"-np\", str(number_of_processes), \"../post_mean_mpi\", \"-i\", \n",
    "                \"../results_50_50_50_vv/ch.dat\", \"-o\", \"../results_50_50_50_vv/mean_freeboard.txt\",\n",
    "                \"-x\", str(MINLAT), \"-X\", str(MAXLAT),\n",
    "                \"-y\", str(MINLON), \"-Y\", str(MAXLON), \n",
    "                \"-A\", str(parametrization), \"-A\", str(parametrization),\n",
    "                \"-W\", str(parameter_W), \"-H\", str(parameter_H),\n",
    "                \"-I\", str(parameter_I), \"-s\", str(parameter_s), \n",
    "                \"-t\", str(parameter_t)])"
   ]
  },
  {
   "cell_type": "code",
   "execution_count": 23,
   "id": "bb9c3c38-0769-44e3-81a1-b88a469b6d11",
   "metadata": {},
   "outputs": [],
   "source": [
    "number_of_processes = 1\n",
    "parametrization = 0 # 0 for Voronoi, 1 for Delaunay linear, 2 for Delaunay Clough-Tocher\n",
    "parameter_T = 100\n",
    "parameter_t = 10\n",
    "parameter_W = 50\n",
    "parameter_H = 50\n",
    "parameter_I = 1\n",
    "parameter_s = 500000\n",
    "parameter_t = 10"
   ]
  },
  {
   "cell_type": "code",
   "execution_count": 24,
   "id": "e6143077-54cc-4cd9-a1a1-52a4aa2c4a99",
   "metadata": {},
   "outputs": [
    {
     "data": {
      "text/plain": [
       "CompletedProcess(args=['mpirun', '-np', '1', '../post_mean_mpi', '-i', '../results_50_50_50_vv/ch.dat', '-o', '../results_50_50_50_vv/mean_ak.txt', '-x', '-180.0', '-X', '178.5', '-y', '60.0', '-Y', '88.0', '-A', '0', '-A', '0', '-W', '50', '-H', '50', '-I', '1', '-s', '500000', '-t', '10'], returncode=0)"
      ]
     },
     "execution_count": 24,
     "metadata": {},
     "output_type": "execute_result"
    }
   ],
   "source": [
    "subprocess.run([\"mpirun\", \"-np\", str(number_of_processes), \"../post_mean_mpi\", \"-i\", \n",
    "                \"../results_50_50_50_vv/ch.dat\", \"-o\", \"../results_50_50_50_vv/mean_ak.txt\",\n",
    "                \"-x\", str(MINLAT), \"-X\", str(MAXLAT),\n",
    "                \"-y\", str(MINLON), \"-Y\", str(MAXLON), \n",
    "                \"-A\", str(parametrization), \"-A\", str(parametrization),\n",
    "                \"-W\", str(parameter_W), \"-H\", str(parameter_H),\n",
    "                \"-I\", str(parameter_I), \"-s\", str(parameter_s), \n",
    "                \"-t\", str(parameter_t)])"
   ]
  },
  {
   "cell_type": "code",
   "execution_count": 25,
   "id": "766286af-70a3-497a-bdd4-ce31fd3ca91c",
   "metadata": {},
   "outputs": [],
   "source": [
    "number_of_processes = 1\n",
    "parametrization = 0 # 0 for Voronoi, 1 for Delaunay linear, 2 for Delaunay Clough-Tocher\n",
    "parameter_T = 100\n",
    "parameter_t = 10\n",
    "parameter_W = 50\n",
    "parameter_H = 50\n",
    "parameter_s = 500000\n",
    "parameter_t = 10"
   ]
  },
  {
   "cell_type": "code",
   "execution_count": 26,
   "id": "c640b9cf-6c7b-4c4d-9160-57fbff86c338",
   "metadata": {},
   "outputs": [
    {
     "data": {
      "text/plain": [
       "CompletedProcess(args=['mpirun', '-np', '1', '../post_mean_tide_mpi', '-i', '../results_50_50_50_vv/ch.dat', '-o', '../results_50_50_50_vv/mean_snow.txt', '-x', '-180.0', '-X', '178.5', '-y', '60.0', '-Y', '88.0', '-A', '0', '-A', '0', '-W', '50', '-H', '50', '-s', '500000', '-t', '10'], returncode=0)"
      ]
     },
     "execution_count": 26,
     "metadata": {},
     "output_type": "execute_result"
    }
   ],
   "source": [
    "subprocess.run([\"mpirun\", \"-np\", str(number_of_processes), \"../post_mean_tide_mpi\", \"-i\", \n",
    "                \"../results_50_50_50_vv/ch.dat\", \"-o\", \"../results_50_50_50_vv/mean_snow.txt\",\n",
    "                \"-x\", str(MINLAT), \"-X\", str(MAXLAT),\n",
    "                \"-y\", str(MINLON), \"-Y\", str(MAXLON), \n",
    "                \"-A\", str(parametrization), \"-A\", str(parametrization),\n",
    "                \"-W\", str(parameter_W), \"-H\", str(parameter_H),\n",
    "                \"-s\", str(parameter_s), \"-t\", str(parameter_t)])"
   ]
  },
  {
   "cell_type": "markdown",
   "id": "fbd1788f-e55b-4ea4-912d-523f2582bf2e",
   "metadata": {},
   "source": [
    "## Visualize Means"
   ]
  },
  {
   "cell_type": "code",
   "execution_count": 27,
   "id": "3d32a484-2665-406c-bd0b-fea1b72e413f",
   "metadata": {},
   "outputs": [
    {
     "data": {
      "text/plain": [
       "<matplotlib.image.AxesImage at 0x128e903a0>"
      ]
     },
     "execution_count": 27,
     "metadata": {},
     "output_type": "execute_result"
    },
    {
     "data": {
      "image/png": "[encoded data removed]",
      "text/plain": [
       "<Figure size 432x288 with 1 Axes>"
      ]
     },
     "metadata": {
      "needs_background": "light"
     },
     "output_type": "display_data"
    }
   ],
   "source": [
    "res = np.loadtxt(\"../results_50_50_50_vv/mean_freeboard.txt\")\n",
    "plt.imshow(res)"
   ]
  },
  {
   "cell_type": "code",
   "execution_count": 28,
   "id": "56dd9c9c-9907-417d-a09d-8f4ebc2fa005",
   "metadata": {},
   "outputs": [
    {
     "data": {
      "text/plain": [
       "<matplotlib.image.AxesImage at 0x128eee190>"
      ]
     },
     "execution_count": 28,
     "metadata": {},
     "output_type": "execute_result"
    },
    {
     "data": {
      "image/png": "[encoded data removed]",
      "text/plain": [
       "<Figure size 432x288 with 1 Axes>"
      ]
     },
     "metadata": {
      "needs_background": "light"
     },
     "output_type": "display_data"
    }
   ],
   "source": [
    "res = np.loadtxt(\"../results_50_50_50_vv/mean_ak.txt\")\n",
    "plt.imshow(res)"
   ]
  },
  {
   "cell_type": "code",
   "execution_count": 29,
   "id": "de7b2da0-1347-46b3-adc4-851e35f6532c",
   "metadata": {
    "scrolled": true
   },
   "outputs": [
    {
     "data": {
      "text/plain": [
       "<matplotlib.image.AxesImage at 0x128f477c0>"
      ]
     },
     "execution_count": 29,
     "metadata": {},
     "output_type": "execute_result"
    },
    {
     "data": {
      "image/png": "[encoded data removed]",
      "text/plain": [
       "<Figure size 432x288 with 1 Axes>"
      ]
     },
     "metadata": {
      "needs_background": "light"
     },
     "output_type": "display_data"
    }
   ],
   "source": [
    "res = np.loadtxt(\"../results_50_50_50_vv/mean_snow.txt\")\n",
    "plt.imshow(res)"
   ]
  },
  {
   "cell_type": "code",
   "execution_count": null,
   "id": "9dcb19e4",
   "metadata": {},
   "outputs": [],
   "source": [
    "## Inversion using Voronoi (single thread?)\n",
    "\n",
    "subprocess.run(\"ls\")\n",
    "\n",
    "number_of_processes = 1\n",
    "parametrization = 0 # 0 for Voronoi, 1 for Delaunay linear, 2 for Delaunay Clough-Tocher\n",
    "parameter_C = 10\n",
    "parameter_T = 10\n",
    "iterations_number = 100\n",
    "verbosity = 100000\n",
    "independent_chains = 1  # Number of independent chains to run at each temperature\n",
    "temperature_levels = 1 # Number of temperatures for parallel tempering \n",
    "max_temperature = 5.0      # Maximum temperature for the parallel tampering log temperature scale\n",
    "iterations_between_tempering = 10  # Number of iteration between parallel tempering exchange attempts\n",
    "\n",
    "subprocess.run([\"mpirun\", \"-np\", str(number_of_processes), \"../tideshmcpt\", \"-i\", \"../snow_ice_observations.txt\", \"-o\", \"../results_50_50_50_vv/\", \n",
    "                \"-P\", \"../tas_synthetic/prior_sea.txt\", \"-P\", \"../tas_synthetic/prior_land.txt\", \n",
    "                \"-M\", \"../tas_synthetic/positionprior_sea.txt\", \"-M\", \"../tas_synthetic/positionprior_land.txt\",\n",
    "                \"-x\", str(MINLAT), \"-X\", str(MAXLAT),\n",
    "                \"-y\", str(MINLON), \"-Y\", str(MAXLON),\n",
    "                \"-A\", str(parametrization), \"-A\", str(parametrization),\n",
    "                \"-C\", str(parameter_C), \"-T\", str(parameter_T),\n",
    "                \"-c\", str(independent_chains),\n",
    "                \"-t\", str(iterations_number), \"-v\", str(verbosity),\n",
    "                \"-K\", str(temperature_levels), \"-m\", str(max_temperature),\n",
    "                \"-e\", str(iterations_between_tempering)])\n",
    "\n",
    "subprocess.run([\"../tideshmc\", \n",
    "                \"-i\", \"../snow_ice_observations.txt\", \n",
    "                \"-o\", \"../results_50_50_50_vv/\", \n",
    "                \"-P\", \"../tas_synthetic/prior_sea.txt\", \"-P\", \"../tas_synthetic/prior_land.txt\", \n",
    "                \"-M\", \"../tas_synthetic/positionprior_sea.txt\", \"-M\", \"../tas_synthetic/positionprior_land.txt\",\n",
    "                \"-x\", str(MINLAT), \"-X\", str(MAXLAT),\n",
    "                \"-y\", str(MINLON), \"-Y\", str(MAXLON),\n",
    "                \"-A\", str(parametrization), \"-A\", str(parametrization),\n",
    "                \"-t\", str(iterations_number), \n",
    "                \"-v\", str(verbosity)])\n",
    "\n",
    "\n",
    "\n",
    "\n",
    "'''\n",
    "mkdir -p results_franke\n",
    "../hmc -i syntheticobs_franke.txt \\\n",
    "  -P priorproposal.txt \\\n",
    "  -M positionpriorproposal.txt \\\n",
    "  -H hierarchicalpriorproposal.txt \\\n",
    "  -o results_franke/ \\\n",
    "  -v 1000 \\\n",
    "  -t 100000 \\\n",
    "  -A 0 \\\n",
    "  -x 0.0 -X 1.0 \\\n",
    "  -y 0.0 -Y 1.0\n",
    "'''\n",
    "\n",
    "## Compute Means (single thread?)\n",
    "\n",
    "number_of_processes = 1\n",
    "parametrization = 0 # 0 for Voronoi, 1 for Delaunay linear, 2 for Delaunay Clough-Tocher\n",
    "parameter_T = 100\n",
    "parameter_t = 10\n",
    "parameter_W = 50\n",
    "parameter_H = 50\n",
    "parameter_I = 0\n",
    "parameter_s = 500000\n",
    "parameter_t = 10\n",
    "\n",
    "subprocess.run([\"mpirun\", \"-np\", str(number_of_processes), \"../post_mean_mpi\", \"-i\", \n",
    "                \"../results_50_50_50_vv/ch.dat\", \"-o\", \"../results_50_50_50_vv/mean_freeboard.txt\",\n",
    "                \"-x\", str(MINLAT), \"-X\", str(MAXLAT),\n",
    "                \"-y\", str(MINLON), \"-Y\", str(MAXLON), \n",
    "                \"-A\", str(parametrization), \"-A\", str(parametrization),\n",
    "                \"-W\", str(parameter_W), \"-H\", str(parameter_H),\n",
    "                \"-I\", str(parameter_I), \"-s\", str(parameter_s), \n",
    "                \"-t\", str(parameter_t)])\n",
    "\n",
    "number_of_processes = 1\n",
    "parametrization = 0 # 0 for Voronoi, 1 for Delaunay linear, 2 for Delaunay Clough-Tocher\n",
    "parameter_T = 100\n",
    "parameter_t = 10\n",
    "parameter_W = 50\n",
    "parameter_H = 50\n",
    "parameter_I = 1\n",
    "parameter_s = 500000\n",
    "parameter_t = 10\n",
    "\n",
    "subprocess.run([\"mpirun\", \"-np\", str(number_of_processes), \"../post_mean_mpi\", \"-i\", \n",
    "                \"../results_50_50_50_vv/ch.dat\", \"-o\", \"../results_50_50_50_vv/mean_ak.txt\",\n",
    "                \"-x\", str(MINLAT), \"-X\", str(MAXLAT),\n",
    "                \"-y\", str(MINLON), \"-Y\", str(MAXLON), \n",
    "                \"-A\", str(parametrization), \"-A\", str(parametrization),\n",
    "                \"-W\", str(parameter_W), \"-H\", str(parameter_H),\n",
    "                \"-I\", str(parameter_I), \"-s\", str(parameter_s), \n",
    "                \"-t\", str(parameter_t)])\n",
    "\n",
    "number_of_processes = 1\n",
    "parametrization = 0 # 0 for Voronoi, 1 for Delaunay linear, 2 for Delaunay Clough-Tocher\n",
    "parameter_T = 100\n",
    "parameter_t = 10\n",
    "parameter_W = 50\n",
    "parameter_H = 50\n",
    "parameter_s = 500000\n",
    "parameter_t = 10\n",
    "\n",
    "subprocess.run([\"mpirun\", \"-np\", str(number_of_processes), \"../post_mean_tide_mpi\", \"-i\", \n",
    "                \"../results_50_50_50_vv/ch.dat\", \"-o\", \"../results_50_50_50_vv/mean_snow.txt\",\n",
    "                \"-x\", str(MINLAT), \"-X\", str(MAXLAT),\n",
    "                \"-y\", str(MINLON), \"-Y\", str(MAXLON), \n",
    "                \"-A\", str(parametrization), \"-A\", str(parametrization),\n",
    "                \"-W\", str(parameter_W), \"-H\", str(parameter_H),\n",
    "                \"-s\", str(parameter_s), \"-t\", str(parameter_t)])\n",
    "\n",
    "## Visualize Means\n",
    "\n",
    "res = np.loadtxt(\"../results_50_50_50_vv/mean_freeboard.txt\")\n",
    "plt.imshow(res)\n",
    "\n",
    "res = np.loadtxt(\"../results_50_50_50_vv/mean_ak.txt\")\n",
    "plt.imshow(res)\n",
    "\n",
    "res = np.loadtxt(\"../results_50_50_50_vv/mean_snow.txt\")\n",
    "plt.imshow(res)"
   ]
  },
  {
   "cell_type": "code",
   "execution_count": null,
   "id": "2fab265c",
   "metadata": {},
   "outputs": [],
   "source": []
  }
 ],
 "metadata": {
  "kernelspec": {
   "display_name": "Python [conda env:msc] *",
   "language": "python",
   "name": "conda-env-msc-py"
  },
  "language_info": {
   "codemirror_mode": {
    "name": "ipython",
    "version": 3
   },
   "file_extension": ".py",
   "mimetype": "text/x-python",
   "name": "python",
   "nbconvert_exporter": "python",
   "pygments_lexer": "ipython3",
   "version": "3.8.12"
  }
 },
 "nbformat": 4,
 "nbformat_minor": 5
}
