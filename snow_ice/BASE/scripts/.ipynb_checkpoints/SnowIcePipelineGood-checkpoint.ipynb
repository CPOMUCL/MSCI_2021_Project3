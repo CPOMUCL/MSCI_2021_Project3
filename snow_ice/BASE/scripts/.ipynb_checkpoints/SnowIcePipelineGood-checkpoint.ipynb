{
 "cells": [
  {
   "cell_type": "markdown",
   "id": "f7dff322",
   "metadata": {},
   "source": [
    "# Inversion Pipeline\n",
    "This notebook has the objective of constructing a pipeline for the inverison and calculation of the means for the snow and ice problem."
   ]
  },
  {
   "cell_type": "code",
   "execution_count": 4,
   "id": "581c1c42",
   "metadata": {},
   "outputs": [],
   "source": [
    "import numpy as np\n",
    "import matplotlib.pyplot as plt\n",
    "import subprocess"
   ]
  },
  {
   "cell_type": "markdown",
   "id": "706bd7c4",
   "metadata": {},
   "source": [
    "## Global Parameters"
   ]
  },
  {
   "cell_type": "code",
   "execution_count": 149,
   "id": "96ce190a",
   "metadata": {},
   "outputs": [],
   "source": [
    "MINLON=-180\n",
    "MAXLON=-130\n",
    "MINLAT=72.5\n",
    "MAXLAT=80"
   ]
  },
  {
   "cell_type": "markdown",
   "id": "9ae45407",
   "metadata": {
    "jp-MarkdownHeadingCollapsed": true,
    "jupyter": {
     "source_hidden": true
    },
    "tags": []
   },
   "source": [
    "# Multi-threads"
   ]
  },
  {
   "cell_type": "markdown",
   "id": "363d9a48",
   "metadata": {
    "jupyter": {
     "source_hidden": true
    }
   },
   "source": [
    "## Inversion using Voronoi "
   ]
  },
  {
   "cell_type": "code",
   "execution_count": 11,
   "id": "28d81570",
   "metadata": {
    "collapsed": true,
    "jupyter": {
     "outputs_hidden": true,
     "source_hidden": true
    }
   },
   "outputs": [
    {
     "name": "stdout",
     "output_type": "stream",
     "text": [
      "DataCleaning.ipynb\n",
      "PipelineSyntheticData.ipynb\n",
      "ResultsVisualization.ipynb\n",
      "SnowIcePipeline-Copy1.ipynb\n",
      "SnowIcePipeline.ipynb\n",
      "SnowIcePipelineGood.ipynb\n",
      "generateislandtemplatepoints.py\n",
      "generatesdftemplatepoints.py\n",
      "results_50_50_50_vv\n",
      "test.npy\n",
      "what.png\n"
     ]
    },
    {
     "data": {
      "text/plain": [
       "CompletedProcess(args='ls', returncode=0)"
      ]
     },
     "execution_count": 11,
     "metadata": {},
     "output_type": "execute_result"
    }
   ],
   "source": [
    "subprocess.run(\"ls\")"
   ]
  },
  {
   "cell_type": "code",
   "execution_count": 6,
   "id": "fe899dc1",
   "metadata": {
    "jupyter": {
     "source_hidden": true
    }
   },
   "outputs": [],
   "source": [
    "number_of_processes = 1\n",
    "parametrization = 0 # 0 for Voronoi, 1 for Delaunay linear, 2 for Delaunay Clough-Tocher\n",
    "parameter_C = 10\n",
    "parameter_T = 10\n",
    "iterations_number = 100\n",
    "verbosity = 100000\n",
    "independent_chains = 1  # Number of independent chains to run at each temperature\n",
    "temperature_levels = 1 # Number of temperatures for parallel tempering \n",
    "max_temperature = 5.0      # Maximum temperature for the parallel tampering log temperature scale\n",
    "iterations_between_tempering = 10  # Number of iteration between parallel tempering exchange attempts"
   ]
  },
  {
   "cell_type": "code",
   "execution_count": 7,
   "id": "621519f6",
   "metadata": {
    "collapsed": true,
    "jupyter": {
     "outputs_hidden": true,
     "source_hidden": true
    }
   },
   "outputs": [
    {
     "data": {
      "text/plain": [
       "CompletedProcess(args=['mpirun', '-np', '1', '../tideshmcpt', '-i', '../snow_ice_observations.txt', '-o', '../results_50_50_50_vv/', '-P', '../tas_synthetic/prior_sea.txt', '-P', '../tas_synthetic/prior_land.txt', '-M', '../tas_synthetic/positionprior_sea.txt', '-M', '../tas_synthetic/positionprior_land.txt', '-x', '0', '-X', '50', '-y', '75', '-Y', '80', '-A', '0', '-A', '0', '-C', '10', '-T', '10', '-c', '1', '-t', '100', '-v', '100000', '-K', '1', '-m', '5.0', '-e', '10'], returncode=0)"
      ]
     },
     "execution_count": 7,
     "metadata": {},
     "output_type": "execute_result"
    }
   ],
   "source": [
    "subprocess.run([\"mpirun\", \"-np\", str(number_of_processes), \"../tideshmcpt\", \"-i\", \"../snow_ice_observations.txt\", \"-o\", \"../results_50_50_50_vv/\", \n",
    "                \"-P\", \"../tas_synthetic/prior_sea.txt\", \"-P\", \"../tas_synthetic/prior_land.txt\", \n",
    "                \"-M\", \"../tas_synthetic/positionprior_sea.txt\", \"-M\", \"../tas_synthetic/positionprior_land.txt\",\n",
    "                \"-x\", str(MINLAT), \"-X\", str(MAXLAT),\n",
    "                \"-y\", str(MINLON), \"-Y\", str(MAXLON),\n",
    "                \"-A\", str(parametrization), \"-A\", str(parametrization),\n",
    "                \"-C\", str(parameter_C), \"-T\", str(parameter_T),\n",
    "                \"-c\", str(independent_chains),\n",
    "                \"-t\", str(iterations_number), \"-v\", str(verbosity),\n",
    "                \"-K\", str(temperature_levels), \"-m\", str(max_temperature),\n",
    "                \"-e\", str(iterations_between_tempering)])"
   ]
  },
  {
   "cell_type": "code",
   "execution_count": 8,
   "id": "98b03fb8",
   "metadata": {
    "collapsed": true,
    "jupyter": {
     "outputs_hidden": true,
     "source_hidden": true
    }
   },
   "outputs": [
    {
     "name": "stdout",
     "output_type": "stream",
     "text": [
      " Initial likelihood: 224.939854 -360.665090\n",
      "Optimized likelihood: 126.924704 -360.665090\n",
      "Optimization AR     :   0.618600\n"
     ]
    },
    {
     "name": "stderr",
     "output_type": "stream",
     "text": [
      "2022-01-12 19:16:44:info:./global.hpp:optimize_sa: 481:Model 0 Mean   1.968950\n",
      "2022-01-12 19:16:44:info:./global.hpp:optimize_sa: 481:Model 1 Mean   2.716924\n"
     ]
    },
    {
     "data": {
      "text/plain": [
       "'\\nmkdir -p results_franke\\n../hmc -i syntheticobs_franke.txt   -P priorproposal.txt   -M positionpriorproposal.txt   -H hierarchicalpriorproposal.txt   -o results_franke/   -v 1000   -t 100000   -A 0   -x 0.0 -X 1.0   -y 0.0 -Y 1.0\\n'"
      ]
     },
     "execution_count": 8,
     "metadata": {},
     "output_type": "execute_result"
    }
   ],
   "source": [
    "subprocess.run([\"../tideshmc\", \n",
    "                \"-i\", \"../snow_ice_observations.txt\", \n",
    "                \"-o\", \"../results_50_50_50_vv/\", \n",
    "                \"-P\", \"../tas_synthetic/prior_sea.txt\", \"-P\", \"../tas_synthetic/prior_land.txt\", \n",
    "                \"-M\", \"../tas_synthetic/positionprior_sea.txt\", \"-M\", \"../tas_synthetic/positionprior_land.txt\",\n",
    "                \"-x\", str(MINLAT), \"-X\", str(MAXLAT),\n",
    "                \"-y\", str(MINLON), \"-Y\", str(MAXLON),\n",
    "                \"-A\", str(parametrization), \"-A\", str(parametrization),\n",
    "                \"-t\", str(iterations_number), \n",
    "                \"-v\", str(verbosity)])\n",
    "\n",
    "\n",
    "\n",
    "\n",
    "'''\n",
    "mkdir -p results_franke\n",
    "../hmc -i syntheticobs_franke.txt \\\n",
    "  -P priorproposal.txt \\\n",
    "  -M positionpriorproposal.txt \\\n",
    "  -H hierarchicalpriorproposal.txt \\\n",
    "  -o results_franke/ \\\n",
    "  -v 1000 \\\n",
    "  -t 100000 \\\n",
    "  -A 0 \\\n",
    "  -x 0.0 -X 1.0 \\\n",
    "  -y 0.0 -Y 1.0\n",
    "'''"
   ]
  },
  {
   "cell_type": "markdown",
   "id": "f1a32e1c",
   "metadata": {
    "jupyter": {
     "source_hidden": true
    }
   },
   "source": [
    "## Compute Means "
   ]
  },
  {
   "cell_type": "code",
   "execution_count": 39,
   "id": "7edff343",
   "metadata": {
    "jupyter": {
     "source_hidden": true
    }
   },
   "outputs": [],
   "source": [
    "number_of_processes = 1\n",
    "parametrization = 0 # 0 for Voronoi, 1 for Delaunay linear, 2 for Delaunay Clough-Tocher\n",
    "parameter_T = 100\n",
    "parameter_t = 10\n",
    "parameter_W = 50\n",
    "parameter_H = 50\n",
    "parameter_I = 0\n",
    "parameter_s = 0\n",
    "parameter_t = 10"
   ]
  },
  {
   "cell_type": "code",
   "execution_count": 40,
   "id": "759edfd6",
   "metadata": {
    "collapsed": true,
    "jupyter": {
     "outputs_hidden": true,
     "source_hidden": true
    }
   },
   "outputs": [
    {
     "data": {
      "text/plain": [
       "CompletedProcess(args=['mpirun', '-np', '1', '../post_mean_mpi', '-i', '../results_50_50_50_vv/ch.dat', '-o', '../results_50_50_50_vv/mean_freeboard.txt', '-x', '-180.0', '-X', '178.5', '-y', '60.0', '-Y', '88.0', '-A', '0', '-A', '0', '-W', '50', '-H', '50', '-I', '0', '-s', '0', '-t', '10'], returncode=0)"
      ]
     },
     "execution_count": 40,
     "metadata": {},
     "output_type": "execute_result"
    }
   ],
   "source": [
    "subprocess.run([\"mpirun\", \"-np\", str(number_of_processes), \"../post_mean_mpi\", \"-i\", \n",
    "                \"../results_50_50_50_vv/ch.dat\", \"-o\", \"../results_50_50_50_vv/mean_freeboard.txt\",\n",
    "                \"-x\", str(MINLAT), \"-X\", str(MAXLAT),\n",
    "                \"-y\", str(MINLON), \"-Y\", str(MAXLON), \n",
    "                \"-A\", str(parametrization), \"-A\", str(parametrization),\n",
    "                \"-W\", str(parameter_W), \"-H\", str(parameter_H),\n",
    "                \"-I\", str(parameter_I), \"-s\", str(parameter_s), \n",
    "                \"-t\", str(parameter_t)])"
   ]
  },
  {
   "cell_type": "code",
   "execution_count": 41,
   "id": "35ac2c45",
   "metadata": {
    "jupyter": {
     "source_hidden": true
    }
   },
   "outputs": [],
   "source": [
    "number_of_processes = 1\n",
    "parametrization = 0 # 0 for Voronoi, 1 for Delaunay linear, 2 for Delaunay Clough-Tocher\n",
    "parameter_T = 100\n",
    "parameter_t = 10\n",
    "parameter_W = 50\n",
    "parameter_H = 50\n",
    "parameter_I = 1\n",
    "parameter_s = 0\n",
    "parameter_t = 10"
   ]
  },
  {
   "cell_type": "code",
   "execution_count": 24,
   "id": "24380018",
   "metadata": {
    "collapsed": true,
    "jupyter": {
     "outputs_hidden": true,
     "source_hidden": true
    }
   },
   "outputs": [
    {
     "data": {
      "text/plain": [
       "CompletedProcess(args=['mpirun', '-np', '1', '../post_mean_mpi', '-i', '../results_50_50_50_vv/ch.dat', '-o', '../results_50_50_50_vv/mean_ak.txt', '-x', '-180.0', '-X', '178.5', '-y', '60.0', '-Y', '88.0', '-A', '0', '-A', '0', '-W', '50', '-H', '50', '-I', '1', '-s', '500000', '-t', '10'], returncode=0)"
      ]
     },
     "execution_count": 24,
     "metadata": {},
     "output_type": "execute_result"
    }
   ],
   "source": [
    "subprocess.run([\"mpirun\", \"-np\", str(number_of_processes), \"../post_mean_mpi\", \"-i\", \n",
    "                \"../results_50_50_50_vv/ch.dat\", \"-o\", \"../results_50_50_50_vv/mean_ak.txt\",\n",
    "                \"-x\", str(MINLAT), \"-X\", str(MAXLAT),\n",
    "                \"-y\", str(MINLON), \"-Y\", str(MAXLON), \n",
    "                \"-A\", str(parametrization), \"-A\", str(parametrization),\n",
    "                \"-W\", str(parameter_W), \"-H\", str(parameter_H),\n",
    "                \"-I\", str(parameter_I), \"-s\", str(parameter_s), \n",
    "                \"-t\", str(parameter_t)])"
   ]
  },
  {
   "cell_type": "code",
   "execution_count": 42,
   "id": "caa9b7ee",
   "metadata": {
    "jupyter": {
     "source_hidden": true
    }
   },
   "outputs": [],
   "source": [
    "number_of_processes = 1\n",
    "parametrization = 0 # 0 for Voronoi, 1 for Delaunay linear, 2 for Delaunay Clough-Tocher\n",
    "parameter_T = 100\n",
    "parameter_t = 10\n",
    "parameter_W = 50\n",
    "parameter_H = 50\n",
    "parameter_s = 0\n",
    "parameter_t = 10"
   ]
  },
  {
   "cell_type": "code",
   "execution_count": 43,
   "id": "ed2f4e75",
   "metadata": {
    "collapsed": true,
    "jupyter": {
     "outputs_hidden": true,
     "source_hidden": true
    }
   },
   "outputs": [
    {
     "data": {
      "text/plain": [
       "CompletedProcess(args=['mpirun', '-np', '1', '../post_mean_tide_mpi', '-i', '../results_50_50_50_vv/ch.dat', '-o', '../results_50_50_50_vv/mean_snow.txt', '-x', '-180.0', '-X', '178.5', '-y', '60.0', '-Y', '88.0', '-A', '0', '-A', '0', '-W', '50', '-H', '50', '-s', '0', '-t', '10'], returncode=0)"
      ]
     },
     "execution_count": 43,
     "metadata": {},
     "output_type": "execute_result"
    }
   ],
   "source": [
    "subprocess.run([\"mpirun\", \"-np\", str(number_of_processes), \"../post_mean_tide_mpi\", \"-i\", \n",
    "                \"../results_50_50_50_vv/ch.dat\", \"-o\", \"../results_50_50_50_vv/mean_snow.txt\",\n",
    "                \"-x\", str(MINLAT), \"-X\", str(MAXLAT),\n",
    "                \"-y\", str(MINLON), \"-Y\", str(MAXLON), \n",
    "                \"-A\", str(parametrization), \"-A\", str(parametrization),\n",
    "                \"-W\", str(parameter_W), \"-H\", str(parameter_H),\n",
    "                \"-s\", str(parameter_s), \"-t\", str(parameter_t)])"
   ]
  },
  {
   "cell_type": "markdown",
   "id": "231fba44",
   "metadata": {
    "jupyter": {
     "source_hidden": true
    }
   },
   "source": [
    "## Visualize Means"
   ]
  },
  {
   "cell_type": "code",
   "execution_count": 44,
   "id": "cf2c543b",
   "metadata": {
    "collapsed": true,
    "jupyter": {
     "outputs_hidden": true,
     "source_hidden": true
    }
   },
   "outputs": [
    {
     "data": {
      "text/plain": [
       "<matplotlib.image.AxesImage at 0x12d91aac0>"
      ]
     },
     "execution_count": 44,
     "metadata": {},
     "output_type": "execute_result"
    },
    {
     "data": {
      "image/png": "[encoded data removed]",
      "text/plain": [
       "<Figure size 432x288 with 1 Axes>"
      ]
     },
     "metadata": {
      "needs_background": "light"
     },
     "output_type": "display_data"
    }
   ],
   "source": [
    "res = np.loadtxt(\"../results_50_50_50_vv/mean_freeboard.txt\")\n",
    "plt.imshow(res)"
   ]
  },
  {
   "cell_type": "code",
   "execution_count": 45,
   "id": "04fcb52e",
   "metadata": {
    "collapsed": true,
    "jupyter": {
     "outputs_hidden": true,
     "source_hidden": true
    }
   },
   "outputs": [
    {
     "data": {
      "text/plain": [
       "<matplotlib.image.AxesImage at 0x12d981280>"
      ]
     },
     "execution_count": 45,
     "metadata": {},
     "output_type": "execute_result"
    },
    {
     "data": {
      "image/png": "[encoded data removed]",
      "text/plain": [
       "<Figure size 432x288 with 1 Axes>"
      ]
     },
     "metadata": {
      "needs_background": "light"
     },
     "output_type": "display_data"
    }
   ],
   "source": [
    "res = np.loadtxt(\"../results_50_50_50_vv/mean_ak.txt\")\n",
    "plt.imshow(res)"
   ]
  },
  {
   "cell_type": "code",
   "execution_count": 46,
   "id": "bfce8efe",
   "metadata": {
    "collapsed": true,
    "jupyter": {
     "outputs_hidden": true,
     "source_hidden": true
    },
    "scrolled": true
   },
   "outputs": [
    {
     "data": {
      "text/plain": [
       "<matplotlib.image.AxesImage at 0x12d9d8b20>"
      ]
     },
     "execution_count": 46,
     "metadata": {},
     "output_type": "execute_result"
    },
    {
     "data": {
      "image/png": "[encoded data removed]",
      "text/plain": [
       "<Figure size 432x288 with 1 Axes>"
      ]
     },
     "metadata": {
      "needs_background": "light"
     },
     "output_type": "display_data"
    }
   ],
   "source": [
    "res = np.loadtxt(\"../results_50_50_50_vv/mean_snow.txt\")\n",
    "plt.imshow(res)"
   ]
  },
  {
   "cell_type": "markdown",
   "id": "504d70be",
   "metadata": {},
   "source": [
    "# Single Thread - Partial Map"
   ]
  },
  {
   "cell_type": "code",
   "execution_count": null,
   "id": "2a2f0443",
   "metadata": {},
   "outputs": [],
   "source": [
    "MINLON=-180\n",
    "MAXLON=-130\n",
    "MINLAT=72.5\n",
    "MAXLAT=80"
   ]
  },
  {
   "cell_type": "markdown",
   "id": "82ee2aca",
   "metadata": {},
   "source": [
    "## Inversion using Voronoi "
   ]
  },
  {
   "cell_type": "code",
   "execution_count": 250,
   "id": "5d306527",
   "metadata": {},
   "outputs": [],
   "source": [
    "number_of_processes = 1\n",
    "parametrization = 1 # 0 for Voronoi, 1 for Delaunay linear, 2 for Delaunay Clough-Tocher\n",
    "iterations_number = 100000\n",
    "verbosity = 100000"
   ]
  },
  {
   "cell_type": "code",
   "execution_count": 251,
   "id": "7fcfd569",
   "metadata": {},
   "outputs": [],
   "source": [
    "cs2_freeboard_file = f\"../images/mean_cs2_{MINLON}_{MAXLON}_{MINLAT}_{MAXLAT}_{parametrization}.txt\"\n",
    "ak_freeboard_file  = f\"../images/mean_ak_{MINLON}_{MAXLON}_{MINLAT}_{MAXLAT}_{parametrization}.txt\""
   ]
  },
  {
   "cell_type": "code",
   "execution_count": 252,
   "id": "88b6c205",
   "metadata": {},
   "outputs": [
    {
     "name": "stderr",
     "output_type": "stream",
     "text": [
      "2022-01-14 03:00:26:info:./global.hpp:optimize_sa: 481:Model 0 Mean   2.716924\n",
      "2022-01-14 03:00:26:info:./global.hpp:optimize_sa: 481:Model 1 Mean   2.362175\n"
     ]
    },
    {
     "data": {
      "text/plain": [
       "CompletedProcess(args=['../tideshmc', '-i', '../snow_ice_observations.txt', '-o', '../results_50_50_50_vv/', '-P', '../tas_synthetic/prior_sea.txt', '-P', '../tas_synthetic/prior_land.txt', '-M', '../tas_synthetic/positionprior_sea.txt', '-M', '../tas_synthetic/positionprior_land.txt', '-x', '-180.0', '-X', '178.5', '-y', '60.0', '-Y', '88.0', '-A', '1', '-A', '1', '-t', '100000', '-v', '100000'], returncode=0)"
      ]
     },
     "execution_count": 252,
     "metadata": {},
     "output_type": "execute_result"
    },
    {
     "name": "stdout",
     "output_type": "stream",
     "text": [
      " Initial likelihood: 582.700861 -1144.777715\n",
      "Optimized likelihood:  59.930772 -1144.777715\n",
      "Optimization AR     :   0.798630\n",
      "100000: Likelihood  38.306320 (-1144.777715) Lambda(s)   1.000000   1.000000 Cell  16  38 \n",
      "           HMC:|   36914/   62589 :  58.98 |\n",
      "         Birth:|    1350/    1571 :  85.93 ||    1353/    1614 :  83.83 |\n",
      "         Death:|    1339/    1650 :  81.15 ||    1320/    1556 :  84.83 |\n",
      "          Move:|   15362/   15501 :  99.10 ||   15357/   15519 :  98.96 |\n",
      "Model   0.000000   0.200000\n"
     ]
    }
   ],
   "source": [
    "subprocess.run([\"../tideshmc\", \n",
    "                \"-i\", \"../snow_ice_observations.txt\", \n",
    "                \"-o\", \"../results_50_50_50_vv/\", \n",
    "                \"-P\", \"../tas_synthetic/prior_sea.txt\", \"-P\", \"../tas_synthetic/prior_land.txt\", \n",
    "                \"-M\", \"../tas_synthetic/positionprior_sea.txt\", \"-M\", \"../tas_synthetic/positionprior_land.txt\",\n",
    "                \"-x\", str(MINLON), \"-X\", str(MAXLON),\n",
    "                \"-y\", str(MINLAT), \"-Y\", str(MAXLAT),\n",
    "                \"-A\", str(parametrization), \"-A\", str(parametrization),\n",
    "                \"-t\", str(iterations_number), \n",
    "                \"-v\", str(verbosity)])"
   ]
  },
  {
   "cell_type": "markdown",
   "id": "ec489a52",
   "metadata": {},
   "source": [
    "## Compute Means "
   ]
  },
  {
   "cell_type": "code",
   "execution_count": 253,
   "id": "72c085bd",
   "metadata": {},
   "outputs": [],
   "source": [
    "parameter_W = 100\n",
    "parameter_H = 100"
   ]
  },
  {
   "cell_type": "code",
   "execution_count": 254,
   "id": "035f1e36",
   "metadata": {},
   "outputs": [
    {
     "name": "stdout",
     "output_type": "stream",
     "text": [
      "Model 0 : 1 parameterization\n",
      "Model 1 : 1 parameterization\n",
      "Models 2: Index 0\n",
      "100000 (  0.000000   0.199958) ( -0.199999   0.599999)\n"
     ]
    },
    {
     "data": {
      "text/plain": [
       "CompletedProcess(args=['../post_mean', '-i', '../results_50_50_50_vv/ch.dat', '-o', '../images/mean_cs2_-180.0_178.5_60.0_88.0_1.txt', '-x', '-180.0', '-X', '178.5', '-y', '60.0', '-Y', '88.0', '-A', '1', '-A', '1', '-W', '100', '-H', '100', '-I', '0'], returncode=0)"
      ]
     },
     "execution_count": 254,
     "metadata": {},
     "output_type": "execute_result"
    }
   ],
   "source": [
    "subprocess.run([\"../post_mean\", \"-i\", \n",
    "                \"../results_50_50_50_vv/ch.dat\", \"-o\", cs2_freeboard_file,\n",
    "                \"-x\", str(MINLON), \"-X\", str(MAXLON),\n",
    "                \"-y\", str(MINLAT), \"-Y\", str(MAXLAT),\n",
    "                \"-A\", str(parametrization), \"-A\", str(parametrization),\n",
    "                \"-W\", str(parameter_W), \"-H\", str(parameter_H),\n",
    "                \"-I\", str(0)])"
   ]
  },
  {
   "cell_type": "code",
   "execution_count": 255,
   "id": "5a115d3f",
   "metadata": {},
   "outputs": [
    {
     "name": "stdout",
     "output_type": "stream",
     "text": [
      "Model 0 : 1 parameterization\n",
      "Model 1 : 1 parameterization\n",
      "Models 2: Index 1\n",
      "100000 ( -0.199706   0.599736) ( -0.199999   0.599999)\n"
     ]
    },
    {
     "data": {
      "text/plain": [
       "CompletedProcess(args=['../post_mean', '-i', '../results_50_50_50_vv/ch.dat', '-o', '../images/mean_ak_-180.0_178.5_60.0_88.0_1.txt', '-x', '-180.0', '-X', '178.5', '-y', '60.0', '-Y', '88.0', '-A', '1', '-A', '1', '-W', '100', '-H', '100', '-I', '1'], returncode=0)"
      ]
     },
     "execution_count": 255,
     "metadata": {},
     "output_type": "execute_result"
    }
   ],
   "source": [
    "subprocess.run([\"../post_mean\", \"-i\", \n",
    "                \"../results_50_50_50_vv/ch.dat\", \"-o\", ak_freeboard_file,\n",
    "                \"-x\", str(MINLON), \"-X\", str(MAXLON),\n",
    "                \"-y\", str(MINLAT), \"-Y\", str(MAXLAT),\n",
    "                \"-A\", str(parametrization), \"-A\", str(parametrization),\n",
    "                \"-W\", str(parameter_W), \"-H\", str(parameter_H),\n",
    "                \"-I\", str(1)])"
   ]
  },
  {
   "cell_type": "markdown",
   "id": "4faba430",
   "metadata": {},
   "source": [
    "## Visualize Means"
   ]
  },
  {
   "cell_type": "code",
   "execution_count": 256,
   "id": "18a4e900",
   "metadata": {},
   "outputs": [
    {
     "data": {
      "text/plain": [
       "<matplotlib.image.AxesImage at 0x117f4a3a0>"
      ]
     },
     "execution_count": 256,
     "metadata": {},
     "output_type": "execute_result"
    },
    {
     "data": {
      "image/png": "[encoded data removed]",
      "text/plain": [
       "<Figure size 432x288 with 1 Axes>"
      ]
     },
     "metadata": {
      "needs_background": "light"
     },
     "output_type": "display_data"
    }
   ],
   "source": [
    "res = np.loadtxt(cs2_freeboard_file)\n",
    "plt.imshow(res, origin='lower')"
   ]
  },
  {
   "cell_type": "code",
   "execution_count": 257,
   "id": "7413e5b0",
   "metadata": {},
   "outputs": [
    {
     "data": {
      "text/plain": [
       "<matplotlib.image.AxesImage at 0x117fe3bb0>"
      ]
     },
     "execution_count": 257,
     "metadata": {},
     "output_type": "execute_result"
    },
    {
     "data": {
      "image/png": "[encoded data removed]",
      "text/plain": [
       "<Figure size 432x288 with 1 Axes>"
      ]
     },
     "metadata": {
      "needs_background": "light"
     },
     "output_type": "display_data"
    }
   ],
   "source": [
    "res = np.loadtxt(ak_freeboard_file)\n",
    "plt.imshow(res, origin='lower')"
   ]
  },
  {
   "cell_type": "markdown",
   "id": "086a1cbb",
   "metadata": {},
   "source": [
    "# Single Thread - Entire Map"
   ]
  },
  {
   "cell_type": "code",
   "execution_count": 1,
   "id": "913a7b86",
   "metadata": {},
   "outputs": [],
   "source": [
    "MINLON=-180.0\n",
    "MAXLON=178.5\n",
    "MINLAT=60.0\n",
    "MAXLAT=88.0"
   ]
  },
  {
   "cell_type": "markdown",
   "id": "a093069b",
   "metadata": {},
   "source": [
    "## Inversion using Voronoi "
   ]
  },
  {
   "cell_type": "code",
   "execution_count": 13,
   "id": "cb9a1b4f",
   "metadata": {},
   "outputs": [],
   "source": [
    "parametrization = 2 # 0 for Voronoi, 1 for Delaunay linear, 2 for Delaunay Clough-Tocher\n",
    "iterations_number = 100000\n",
    "verbosity = 1000000"
   ]
  },
  {
   "cell_type": "code",
   "execution_count": 14,
   "id": "d8d1ba36",
   "metadata": {},
   "outputs": [],
   "source": [
    "cs2_freeboard_file = f\"../images/mean_cs2_{MINLON}_{MAXLON}_{MINLAT}_{MAXLAT}_complete_{parametrization}.txt\"\n",
    "ak_freeboard_file  = f\"../images/mean_ak_{MINLON}_{MAXLON}_{MINLAT}_{MAXLAT}_complete_{parametrization}.txt\""
   ]
  },
  {
   "cell_type": "code",
   "execution_count": 15,
   "id": "c4ae2071",
   "metadata": {},
   "outputs": [
    {
     "name": "stderr",
     "output_type": "stream",
     "text": [
      "delaunay2d_find_enclosing_triangle: edge found -1 (0.964286 0.0357143 -1.38778e-17)\n",
      "                                  : 178.500000 87.000000 (-180.000000 178.500000 60.000000 88.000000)\n",
      "                                  : 2 (2 3 4) (-1 3 0)\n"
     ]
    },
    {
     "data": {
      "text/plain": [
       "CompletedProcess(args=['../tideshmc', '-i', '../snow_ice_observations_complete_fixed.txt', '-o', '../results_50_50_50_vv/', '-P', '../tas_synthetic/prior_sea.txt', '-P', '../tas_synthetic/prior_land.txt', '-M', '../tas_synthetic/positionprior_sea.txt', '-M', '../tas_synthetic/positionprior_land.txt', '-x', '-180.0', '-X', '178.5', '-y', '60.0', '-Y', '88.0', '-A', '2', '-A', '2', '-t', '100000', '-v', '1000000'], returncode=-11)"
      ]
     },
     "execution_count": 15,
     "metadata": {},
     "output_type": "execute_result"
    }
   ],
   "source": [
    "subprocess.run([\"../tideshmc\", \n",
    "                \"-i\", \"../snow_ice_observations_complete_fixed.txt\", \n",
    "                \"-o\", \"../results_50_50_50_vv/\", \n",
    "                \"-P\", \"../tas_synthetic/prior_sea.txt\", \"-P\", \"../tas_synthetic/prior_land.txt\", \n",
    "                \"-M\", \"../tas_synthetic/positionprior_sea.txt\", \"-M\", \"../tas_synthetic/positionprior_land.txt\",\n",
    "                \"-x\", str(MINLON), \"-X\", str(MAXLON),\n",
    "                \"-y\", str(MINLAT), \"-Y\", str(MAXLAT),\n",
    "                \"-A\", str(parametrization), \"-A\", str(parametrization),\n",
    "                \"-t\", str(iterations_number), \n",
    "                \"-v\", str(verbosity)])"
   ]
  },
  {
   "cell_type": "markdown",
   "id": "c0cc9dd1",
   "metadata": {},
   "source": [
    "## Compute Means "
   ]
  },
  {
   "cell_type": "code",
   "execution_count": 213,
   "id": "0be52f9d",
   "metadata": {},
   "outputs": [],
   "source": [
    "parameter_W = 200\n",
    "parameter_H = 200"
   ]
  },
  {
   "cell_type": "code",
   "execution_count": 214,
   "id": "14e39687",
   "metadata": {},
   "outputs": [
    {
     "name": "stdout",
     "output_type": "stream",
     "text": [
      "Model 0 : 0 parameterization\n",
      "Model 1 : 0 parameterization\n",
      "Models 2: Index 0\n",
      "100000 (  0.000000   0.200000) ( -0.199999   0.599992)\n",
      "200000 (  0.000000   0.200000) ( -0.199999   0.599992)\n",
      "300000 (  0.000000   0.200000) ( -0.199999   0.599992)\n",
      "400000 (  0.000000   0.200000) ( -0.199999   0.599993)\n",
      "500000 (  0.000000   0.200000) ( -0.200000   0.599993)\n",
      "600000 (  0.000000   0.200000) ( -0.200000   0.599993)\n",
      "700000 (  0.000000   0.200000) ( -0.200000   0.599999)\n",
      "800000 (  0.000000   0.200000) ( -0.200000   0.599999)\n",
      "900000 (  0.000000   0.200000) ( -0.200000   0.599999)\n",
      "1000000 (  0.000000   0.200000) ( -0.200000   0.599999)\n"
     ]
    },
    {
     "data": {
      "text/plain": [
       "CompletedProcess(args=['../post_mean', '-i', '../results_50_50_50_vv/ch.dat', '-o', '../images/mean_cs2_-180_180_60_90_complete_0.txt', '-x', '-180', '-X', '180', '-y', '60', '-Y', '90', '-A', '0', '-A', '0', '-W', '200', '-H', '200', '-I', '0'], returncode=0)"
      ]
     },
     "execution_count": 214,
     "metadata": {},
     "output_type": "execute_result"
    }
   ],
   "source": [
    "subprocess.run([\"../post_mean\", \"-i\", \n",
    "                \"../results_50_50_50_vv/ch.dat\", \"-o\", cs2_freeboard_file,\n",
    "                \"-x\", str(MINLON), \"-X\", str(MAXLON),\n",
    "                \"-y\", str(MINLAT), \"-Y\", str(MAXLAT),\n",
    "                \"-A\", str(parametrization), \"-A\", str(parametrization),\n",
    "                \"-W\", str(parameter_W), \"-H\", str(parameter_H),\n",
    "                \"-I\", str(0)])"
   ]
  },
  {
   "cell_type": "code",
   "execution_count": 215,
   "id": "ff15d8d8",
   "metadata": {},
   "outputs": [],
   "source": [
    "parametrization = 0 # 0 for Voronoi, 1 for Delaunay linear, 2 for Delaunay Clough-Tocher\n",
    "parameter_I = 1\n",
    "parameter_W = 200\n",
    "parameter_H = 200"
   ]
  },
  {
   "cell_type": "code",
   "execution_count": 216,
   "id": "f495d2d0",
   "metadata": {},
   "outputs": [
    {
     "name": "stdout",
     "output_type": "stream",
     "text": [
      "Model 0 : 0 parameterization\n",
      "Model 1 : 0 parameterization\n",
      "Models 2: Index 1\n",
      "100000 ( -0.199999   0.599992) ( -0.199999   0.599992)\n",
      "200000 ( -0.199999   0.599992) ( -0.199999   0.599992)\n",
      "300000 ( -0.199999   0.599992) ( -0.199999   0.599992)\n",
      "400000 ( -0.199999   0.599993) ( -0.199999   0.599993)\n",
      "500000 ( -0.200000   0.599993) ( -0.200000   0.599993)\n",
      "600000 ( -0.200000   0.599993) ( -0.200000   0.599993)\n",
      "700000 ( -0.200000   0.599999) ( -0.200000   0.599999)\n",
      "800000 ( -0.200000   0.599999) ( -0.200000   0.599999)\n",
      "900000 ( -0.200000   0.599999) ( -0.200000   0.599999)\n",
      "1000000 ( -0.200000   0.599999) ( -0.200000   0.599999)\n"
     ]
    },
    {
     "data": {
      "text/plain": [
       "CompletedProcess(args=['../post_mean', '-i', '../results_50_50_50_vv/ch.dat', '-o', '../images/mean_ak_-180_180_60_90_complete_0.txt', '-x', '-180', '-X', '180', '-y', '60', '-Y', '90', '-A', '0', '-A', '0', '-W', '200', '-H', '200', '-I', '1'], returncode=0)"
      ]
     },
     "execution_count": 216,
     "metadata": {},
     "output_type": "execute_result"
    }
   ],
   "source": [
    "subprocess.run([\"../post_mean\", \"-i\", \n",
    "                \"../results_50_50_50_vv/ch.dat\", \"-o\", ak_freeboard_file,\n",
    "                \"-x\", str(MINLON), \"-X\", str(MAXLON),\n",
    "                \"-y\", str(MINLAT), \"-Y\", str(MAXLAT),\n",
    "                \"-A\", str(parametrization), \"-A\", str(parametrization),\n",
    "                \"-W\", str(parameter_W), \"-H\", str(parameter_H),\n",
    "                \"-I\", str(1)])"
   ]
  },
  {
   "cell_type": "markdown",
   "id": "e6960563",
   "metadata": {},
   "source": [
    "## Visualize Means"
   ]
  },
  {
   "cell_type": "code",
   "execution_count": 217,
   "id": "4abf009b",
   "metadata": {},
   "outputs": [
    {
     "data": {
      "text/plain": [
       "<matplotlib.image.AxesImage at 0x117da9910>"
      ]
     },
     "execution_count": 217,
     "metadata": {},
     "output_type": "execute_result"
    },
    {
     "data": {
      "image/png": "[encoded data removed]",
      "text/plain": [
       "<Figure size 432x288 with 1 Axes>"
      ]
     },
     "metadata": {
      "needs_background": "light"
     },
     "output_type": "display_data"
    }
   ],
   "source": [
    "res = np.loadtxt(cs2_freeboard_file)\n",
    "plt.imshow(res, origin='lower')"
   ]
  },
  {
   "cell_type": "code",
   "execution_count": 218,
   "id": "b3e921ae",
   "metadata": {},
   "outputs": [
    {
     "data": {
      "text/plain": [
       "<matplotlib.image.AxesImage at 0x117f13c10>"
      ]
     },
     "execution_count": 218,
     "metadata": {},
     "output_type": "execute_result"
    },
    {
     "data": {
      "image/png": "[encoded data removed]",
      "text/plain": [
       "<Figure size 432x288 with 1 Axes>"
      ]
     },
     "metadata": {
      "needs_background": "light"
     },
     "output_type": "display_data"
    }
   ],
   "source": [
    "res = np.loadtxt(ak_freeboard_file)\n",
    "plt.imshow(res, origin='lower')"
   ]
  }
 ],
 "metadata": {
  "kernelspec": {
   "display_name": "Python [conda env:msc] *",
   "language": "python",
   "name": "conda-env-msc-py"
  },
  "language_info": {
   "codemirror_mode": {
    "name": "ipython",
    "version": 3
   },
   "file_extension": ".py",
   "mimetype": "text/x-python",
   "name": "python",
   "nbconvert_exporter": "python",
   "pygments_lexer": "ipython3",
   "version": "3.8.12"
  }
 },
 "nbformat": 4,
 "nbformat_minor": 5
}
